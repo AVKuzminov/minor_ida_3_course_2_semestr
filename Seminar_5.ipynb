{
 "cells": [
  {
   "cell_type": "code",
   "execution_count": 3,
   "metadata": {
    "collapsed": true
   },
   "outputs": [],
   "source": [
    "from sklearn.feature_extraction.text import CountVectorizer\n",
    "from sklearn.decomposition import LatentDirichletAllocation\n",
    "from sklearn.datasets import fetch_20newsgroups"
   ]
  },
  {
   "cell_type": "markdown",
   "metadata": {},
   "source": [
    "### пункт 0\n",
    "\n",
    "Загрузите датасет с помощью функции fetch_20newsgroups"
   ]
  },
  {
   "cell_type": "code",
   "execution_count": 4,
   "metadata": {
    "collapsed": true
   },
   "outputs": [],
   "source": [
    "d = fetch_20newsgroups(remove=('headers', 'footer', 'quotes')).data"
   ]
  },
  {
   "cell_type": "markdown",
   "metadata": {},
   "source": [
    "### part 1: LDA из sklearn\n",
    "\n",
    "- Однопоточный, неэффективный.\n",
    "- Совместим в векторайзерами sklearn\n",
    "- легко исопльзовать"
   ]
  },
  {
   "cell_type": "markdown",
   "metadata": {},
   "source": [
    "### пункт 1\n",
    "\n",
    "1) создайте объект класса CountVectorizer \n",
    "\n",
    "2) примените его к вашей коллекции, причем так, чтобы коллекция документов была представлена не всеми словами из словаря, а только 1000 словами, которые наиболее часто встречаются в коллекции\n",
    "\n",
    "(для этого надо воспользоваться методом fit_transform и указать соответствующий параметр)"
   ]
  },
  {
   "cell_type": "code",
   "execution_count": 5,
   "metadata": {},
   "outputs": [],
   "source": [
    "cv = CountVectorizer(max_features=1000,stop_words='english')\n",
    "\n",
    "transformed_dataset = cv.fit_transform(d)"
   ]
  },
  {
   "cell_type": "markdown",
   "metadata": {},
   "source": [
    "### пункт 2\n",
    "Получите названия тех топ-1000 слов, которые вы только что закодировали векторайзером"
   ]
  },
  {
   "cell_type": "code",
   "execution_count": 6,
   "metadata": {},
   "outputs": [],
   "source": [
    "tf_feature_names = cv.get_feature_names()\n",
    "assert len(tf_feature_names) == 1000"
   ]
  },
  {
   "cell_type": "markdown",
   "metadata": {},
   "source": [
    "Обучите LatentDirichletAllocation из sklearn со следующими параметрами n_topics=20, max_iter=50, learning_method='batch'"
   ]
  },
  {
   "cell_type": "code",
   "execution_count": 19,
   "metadata": {},
   "outputs": [
    {
     "name": "stderr",
     "output_type": "stream",
     "text": [
      "C:\\Users\\akrazer\\Anaconda3\\lib\\site-packages\\sklearn\\decomposition\\online_lda.py:294: DeprecationWarning: n_topics has been renamed to n_components in version 0.19 and will be removed in 0.21\n",
      "  DeprecationWarning)\n"
     ]
    },
    {
     "data": {
      "text/plain": [
       "LatentDirichletAllocation(batch_size=128, doc_topic_prior=None,\n",
       "             evaluate_every=-1, learning_decay=0.7,\n",
       "             learning_method='batch', learning_offset=10.0,\n",
       "             max_doc_update_iter=100, max_iter=50, mean_change_tol=0.001,\n",
       "             n_components=10, n_jobs=1, n_topics=20, perp_tol=0.1,\n",
       "             random_state=None, topic_word_prior=None,\n",
       "             total_samples=1000000.0, verbose=0)"
      ]
     },
     "execution_count": 19,
     "metadata": {},
     "output_type": "execute_result"
    }
   ],
   "source": [
    "lda = LatentDirichletAllocation(n_topics=20,max_iter=50,learning_method='batch')\n",
    "lda.fit(transformed_dataset)"
   ]
  },
  {
   "cell_type": "markdown",
   "metadata": {},
   "source": [
    "Воспользуйтесь следующей функцией, чтобы вывести ключевые слова конкретной темы."
   ]
  },
  {
   "cell_type": "code",
   "execution_count": 20,
   "metadata": {},
   "outputs": [],
   "source": [
    "def print_top_words(model, feature_names, n_top_words):\n",
    "    for topic_idx, topic in enumerate(model.components_):\n",
    "        print(\"Topic {}:\".format(topic_idx))\n",
    "        print(' '.join([feature_names[i] for i in topic.argsort()[:-n_top_words - 1:-1]]))"
   ]
  },
  {
   "cell_type": "code",
   "execution_count": 22,
   "metadata": {},
   "outputs": [
    {
     "name": "stdout",
     "output_type": "stream",
     "text": [
      "Topic 0:\n",
      "god jesus christian bible church christ christians faith man life john paul lord love shall law father believe people hell\n",
      "Topic 1:\n",
      "thanks edu com mail know does email __ help ca internet hi advance fax ___ like uk phone looking info\n",
      "Topic 2:\n",
      "said armenian people turkish armenians children women went armenia turks turkey told did came killed men saw soviet greek didn\n",
      "Topic 3:\n",
      "file windows program window use files image display output using code application screen entry color set widget section dos server\n",
      "Topic 4:\n",
      "does people question believe think true say point evidence know don truth argument just answer fact claim way different stephanopoulos\n",
      "Topic 5:\n",
      "space nasa data gov earth launch satellite station orbit 02 center cost 03 development program research project 04 commercial technology\n",
      "Topic 6:\n",
      "mr president clinton going house tax people congress american new think jobs white money said administration government states know work\n",
      "Topic 7:\n",
      "don just like know think people want really say good ve ll way going make sure edu things thing doesn\n",
      "Topic 8:\n",
      "drive card scsi db disk mac bit pc memory video apple hard drives monitor ram bus controller 16 drivers use\n",
      "Topic 9:\n",
      "00 price 50 000 new sale offer 20 10 100 shipping sell condition 15 30 dos 25 edu 250 200\n",
      "Topic 10:\n",
      "gun law people guns government police crime control right rights state laws court weapons firearms legal self public federal fbi\n",
      "Topic 11:\n",
      "game team year play games season hockey league players win player san teams nhl division chicago vs new edu toronto\n",
      "Topic 12:\n",
      "edu available com ftp list pub mail send software information version cs anonymous graphics faq mit internet comp email sun\n",
      "Topic 13:\n",
      "ax max g9v b8f a86 pl 145 1d9 0t 1t giz bhj 3t 75u 34u 2di 2tm wm 7ey bxn\n",
      "Topic 14:\n",
      "car got just time good like dod years ago day com right bike year new ve did hit cars little\n",
      "Topic 15:\n",
      "university 1993 research edu information new april health national medical department center institute state washington apr science computer 1992 page\n",
      "Topic 16:\n",
      "key chip encryption keys clipper public privacy security use government algorithm des secure pgp nsa data information bit law used\n",
      "Topic 17:\n",
      "israel jews war world israeli government jewish state people military land peace anti history south rights human country political years\n",
      "Topic 18:\n",
      "use time work used problem good power like high using problems need don water better small ground current point usually\n",
      "Topic 19:\n",
      "10 17 25 11 14 16 12 24 15 13 18 0d 27 55 34 21 23 19 28 22\n"
     ]
    }
   ],
   "source": [
    "n_top_words = 10\n",
    "print_top_words(lda,tf_feature_names,20)"
   ]
  },
  {
   "cell_type": "markdown",
   "metadata": {},
   "source": [
    "### part 2: Gensim\n",
    "\n",
    "- Неэффективный.\n",
    "- Совместим в векторайзерами sklearn.\n",
    "- Легко использовать.\n",
    "- Поддерживает несколько входных форматов."
   ]
  },
  {
   "cell_type": "markdown",
   "metadata": {},
   "source": [
    "Преобразуйте корпус следующим образом"
   ]
  },
  {
   "cell_type": "code",
   "execution_count": 23,
   "metadata": {},
   "outputs": [
    {
     "name": "stdout",
     "output_type": "stream",
     "text": [
      "Requirement already satisfied: gensim in c:\\users\\akrazer\\anaconda3\\lib\\site-packages\n",
      "Requirement already satisfied: six>=1.5.0 in c:\\users\\akrazer\\anaconda3\\lib\\site-packages (from gensim)\n",
      "Requirement already satisfied: smart-open>=1.2.1 in c:\\users\\akrazer\\anaconda3\\lib\\site-packages (from gensim)\n",
      "Requirement already satisfied: numpy>=1.11.3 in c:\\users\\akrazer\\anaconda3\\lib\\site-packages (from gensim)\n",
      "Requirement already satisfied: scipy>=0.18.1 in c:\\users\\akrazer\\anaconda3\\lib\\site-packages (from gensim)\n",
      "Requirement already satisfied: boto3 in c:\\users\\akrazer\\anaconda3\\lib\\site-packages (from smart-open>=1.2.1->gensim)\n",
      "Requirement already satisfied: requests in c:\\users\\akrazer\\anaconda3\\lib\\site-packages (from smart-open>=1.2.1->gensim)\n",
      "Requirement already satisfied: boto>=2.32 in c:\\users\\akrazer\\anaconda3\\lib\\site-packages (from smart-open>=1.2.1->gensim)\n",
      "Requirement already satisfied: bz2file in c:\\users\\akrazer\\anaconda3\\lib\\site-packages (from smart-open>=1.2.1->gensim)\n",
      "Requirement already satisfied: botocore<1.9.0,>=1.8.43 in c:\\users\\akrazer\\anaconda3\\lib\\site-packages (from boto3->smart-open>=1.2.1->gensim)\n",
      "Requirement already satisfied: jmespath<1.0.0,>=0.7.1 in c:\\users\\akrazer\\anaconda3\\lib\\site-packages (from boto3->smart-open>=1.2.1->gensim)\n",
      "Requirement already satisfied: s3transfer<0.2.0,>=0.1.10 in c:\\users\\akrazer\\anaconda3\\lib\\site-packages (from boto3->smart-open>=1.2.1->gensim)\n",
      "Requirement already satisfied: chardet<3.1.0,>=3.0.2 in c:\\users\\akrazer\\anaconda3\\lib\\site-packages (from requests->smart-open>=1.2.1->gensim)\n",
      "Requirement already satisfied: idna<2.7,>=2.5 in c:\\users\\akrazer\\anaconda3\\lib\\site-packages (from requests->smart-open>=1.2.1->gensim)\n",
      "Requirement already satisfied: urllib3<1.23,>=1.21.1 in c:\\users\\akrazer\\anaconda3\\lib\\site-packages (from requests->smart-open>=1.2.1->gensim)\n",
      "Requirement already satisfied: certifi>=2017.4.17 in c:\\users\\akrazer\\anaconda3\\lib\\site-packages (from requests->smart-open>=1.2.1->gensim)\n",
      "Requirement already satisfied: python-dateutil<3.0.0,>=2.1 in c:\\users\\akrazer\\anaconda3\\lib\\site-packages (from botocore<1.9.0,>=1.8.43->boto3->smart-open>=1.2.1->gensim)\n",
      "Requirement already satisfied: docutils>=0.10 in c:\\users\\akrazer\\anaconda3\\lib\\site-packages (from botocore<1.9.0,>=1.8.43->boto3->smart-open>=1.2.1->gensim)\n"
     ]
    },
    {
     "name": "stderr",
     "output_type": "stream",
     "text": [
      "C:\\Users\\akrazer\\Anaconda3\\lib\\site-packages\\gensim\\utils.py:1167: UserWarning: detected Windows; aliasing chunkize to chunkize_serial\n",
      "  warnings.warn(\"detected Windows; aliasing chunkize to chunkize_serial\")\n"
     ]
    }
   ],
   "source": [
    "!pip install gensim\n",
    "import gensim\n",
    "corpus = gensim.matutils.Sparse2Corpus(transformed_dataset,documents_columns=False)"
   ]
  },
  {
   "cell_type": "markdown",
   "metadata": {},
   "source": [
    "### пункт 3\n",
    "Заполните словарь id2word в виде {индекс:слово}"
   ]
  },
  {
   "cell_type": "code",
   "execution_count": null,
   "metadata": {
    "collapsed": true
   },
   "outputs": [],
   "source": [
    "id2word = {}\n"
   ]
  },
  {
   "cell_type": "markdown",
   "metadata": {},
   "source": [
    "### пункт 4\n",
    "Обучите модель LDA из gensim (для этого надо воспользоваться gensim.models.ldamodel.LdaModel)"
   ]
  },
  {
   "cell_type": "code",
   "execution_count": null,
   "metadata": {
    "collapsed": true
   },
   "outputs": [],
   "source": [
    "lda = "
   ]
  },
  {
   "cell_type": "markdown",
   "metadata": {},
   "source": [
    "Выведите наиболее вероятные слова для каждой темы"
   ]
  },
  {
   "cell_type": "code",
   "execution_count": null,
   "metadata": {
    "collapsed": true
   },
   "outputs": [],
   "source": [
    "lda.print_topics(lda.num_topics)"
   ]
  },
  {
   "cell_type": "markdown",
   "metadata": {},
   "source": [
    "### пункт 5\n",
    "Обучите модель LSI из gensim (для этого надо воспользоваться gensim.models.lsimodel.LsiModel)"
   ]
  },
  {
   "cell_type": "code",
   "execution_count": null,
   "metadata": {
    "collapsed": true
   },
   "outputs": [],
   "source": [
    "lsi = "
   ]
  },
  {
   "cell_type": "markdown",
   "metadata": {},
   "source": [
    "Выведите наиболее вероятные слова для каждой темы"
   ]
  },
  {
   "cell_type": "code",
   "execution_count": null,
   "metadata": {
    "collapsed": true
   },
   "outputs": [],
   "source": [
    "lsi.print_topics(lsi.num_topics)"
   ]
  },
  {
   "cell_type": "markdown",
   "metadata": {},
   "source": [
    "Какая модель по вашему мнению лучше выделила темы?"
   ]
  },
  {
   "cell_type": "code",
   "execution_count": null,
   "metadata": {
    "collapsed": true
   },
   "outputs": [],
   "source": []
  }
 ],
 "metadata": {
  "kernelspec": {
   "display_name": "Python 3",
   "language": "python",
   "name": "python3"
  },
  "language_info": {
   "codemirror_mode": {
    "name": "ipython",
    "version": 3
   },
   "file_extension": ".py",
   "mimetype": "text/x-python",
   "name": "python",
   "nbconvert_exporter": "python",
   "pygments_lexer": "ipython3",
   "version": "3.6.3"
  }
 },
 "nbformat": 4,
 "nbformat_minor": 2
}
