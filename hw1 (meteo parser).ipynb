{
  "nbformat": 4,
  "nbformat_minor": 0,
  "metadata": {
    "colab": {
      "name": "hw1.ipynb",
      "provenance": [],
      "collapsed_sections": [],
      "include_colab_link": true
    },
    "kernelspec": {
      "display_name": "Python 3",
      "language": "python",
      "name": "python3"
    }
  },
  "cells": [
    {
      "cell_type": "markdown",
      "metadata": {
        "id": "view-in-github",
        "colab_type": "text"
      },
      "source": [
        "<a href=\"https://colab.research.google.com/github/AVKuzminov/minor_ida_3_course_2_semestr/blob/master/hw1%20(meteo%20parser).ipynb\" target=\"_parent\"><img src=\"https://colab.research.google.com/assets/colab-badge.svg\" alt=\"Open In Colab\"/></a>"
      ]
    },
    {
      "cell_type": "markdown",
      "metadata": {
        "id": "fQ_k1biS5AES",
        "colab_type": "text"
      },
      "source": [
        "### Работу выполнили студенты ИАД-3:\n",
        "\n",
        "\n",
        ">  Полякова Ольга, Бурлак Анастасия, Кузьминов Артем\n",
        "\n"
      ]
    },
    {
      "cell_type": "markdown",
      "metadata": {
        "id": "bW8Vo6__YGIU",
        "colab_type": "text"
      },
      "source": [
        "# Майнор \"Прикладные задачи анализа данных\"\n",
        "## Домашнее задание 1 [10 баллов] до 23:59 17.02.2018\n",
        "\n",
        "В этом домашнем задании вам потребуется написать генератор описания прогноза погоды на следующую неделю в каком-нибудь городе. Домашнее задание состоит из трех частей:\n",
        "1. Скачивание данных о состоянии погоды в городе с gismeteo.ru\n",
        "2. Генерация описания прогноза\n",
        "3. Творческая часть\n",
        "\n",
        "Все три части можно считать независимыми – вы можете сделать одну или две из них, однако мы настоятельно советуем выполнить все три. Все инструкции по выполнению домашнего задания – ниже. \n",
        "\n"
      ]
    },
    {
      "cell_type": "markdown",
      "metadata": {
        "id": "dX-GikwjYGIZ",
        "colab_type": "text"
      },
      "source": [
        "### 1. Сбор данных [3 балла]\n",
        "\n",
        "Выберите произвольным образом город в России и найдите прогноз погоды в нем на ближайшие 10 дней на сайте gismeteo.ru.\n",
        "\n",
        "Пример: прогноз на 10 ближайших дней в Москве – https://www.gismeteo.ru/weather-moscow-4368/10-days/\n",
        "\n",
        "Используя известные вам библиотеки для работы с протоколом http и html кодом, извлеките прогноз на ближайшие 10 дней, начиная со дня, когда вы начали делать домашнее задание.  \n",
        "\n",
        "Резльтатом сбора данных должна быть таблица со следующими строками:\n",
        "* минимальная температура\n",
        "* максимальна температура\n",
        "* скорость ветра\n",
        "* уровень осадков \n",
        "\n",
        "В столбцах таблицы должны быть даты и дни недели.  Пример итоговой таблицы вы найдете в следующей части задания. "
      ]
    },
    {
      "cell_type": "markdown",
      "metadata": {
        "id": "Si-9UvzALirL",
        "colab_type": "text"
      },
      "source": [
        "**Загрузка библиотек**"
      ]
    },
    {
      "cell_type": "markdown",
      "metadata": {
        "id": "-nOcRvgyJKdx",
        "colab_type": "text"
      },
      "source": [
        "В этой части задания мы будем использовать библиотеки beautifulsoup4 и urllub.\n",
        "Первая позводит нам обработать данные, найти по нужным (заранее опрелеленным на сайте благодаря встроенному инструментарию браузера) тегам информацию для дальнейшей обработки, а urllib - считать ее по ссылке."
      ]
    },
    {
      "cell_type": "code",
      "metadata": {
        "id": "qBWGkr_wYW4u",
        "colab_type": "code",
        "outputId": "817a9d2f-0c6c-4ae5-c497-a2b8dd7f8b59",
        "colab": {
          "base_uri": "https://localhost:8080/",
          "height": 34
        }
      },
      "source": [
        "#Загрузка библиотек\n",
        "!pip install beautifulsoup4\n",
        "import bs4 as bs\n",
        "import random\n",
        "import urllib\n",
        "import pandas as pnd"
      ],
      "execution_count": 0,
      "outputs": [
        {
          "output_type": "stream",
          "text": [
            "Requirement already satisfied: beautifulsoup4 in /usr/local/lib/python3.6/dist-packages\r\n"
          ],
          "name": "stdout"
        }
      ]
    },
    {
      "cell_type": "markdown",
      "metadata": {
        "id": "TplJ8lNeLl5S",
        "colab_type": "text"
      },
      "source": [
        "**Считывание веб-страницы**"
      ]
    },
    {
      "cell_type": "code",
      "metadata": {
        "id": "cM5bnn1thlcv",
        "colab_type": "code",
        "colab": {}
      },
      "source": [
        "#Ссылка на веб-страницу\n",
        "full_link= \"https://www.gismeteo.ru/weather-khabarovsk-4862/10-days/\""
      ],
      "execution_count": 0,
      "outputs": []
    },
    {
      "cell_type": "code",
      "metadata": {
        "id": "DvecyDT5KaIf",
        "colab_type": "code",
        "colab": {}
      },
      "source": [
        "#1 Urllib\n",
        "page = urllib.request.urlopen(full_link)\n",
        "raw_page = page.read()"
      ],
      "execution_count": 0,
      "outputs": []
    },
    {
      "cell_type": "markdown",
      "metadata": {
        "id": "uPJ-8LibLeRr",
        "colab_type": "text"
      },
      "source": [
        "**Парсинг**"
      ]
    },
    {
      "cell_type": "code",
      "metadata": {
        "id": "96OdzWXBlHIl",
        "colab_type": "code",
        "colab": {}
      },
      "source": [
        "#2 BeautifulSoup - библиотека для парсинга, поиска по html-тегам\n",
        "import warnings\n",
        "warnings.filterwarnings(\"ignore\")\n",
        "soup = bs.BeautifulSoup(markup=raw_page, exclude_encodings=\"lxml\")"
      ],
      "execution_count": 0,
      "outputs": []
    },
    {
      "cell_type": "code",
      "metadata": {
        "id": "uRyiIpbRmOeK",
        "colab_type": "code",
        "colab": {}
      },
      "source": [
        "iterator = soup.find_all(\"div\", class_= \"widget__container\")\n",
        "days = []\n",
        "n_days = 1\n",
        "table = iterator[0] #первый такой элемерт на сайте, в нем вся нужная информация\n",
        "rows = table.find_all(\"div\", class_ = \"widget__row\")\n",
        "#rows[0] - дни\n",
        "#rows[1] - солнышки\n",
        "#rows[2] - температуры\n",
        "#rows[3] - макс. скорость ветра\n",
        "#rows[4] - осадки"
      ],
      "execution_count": 0,
      "outputs": []
    },
    {
      "cell_type": "code",
      "metadata": {
        "id": "XLnvCkSFntZ2",
        "colab_type": "code",
        "outputId": "e5a75031-e6d6-4796-9af4-9418a2848c73",
        "colab": {
          "base_uri": "https://localhost:8080/",
          "height": 34
        }
      },
      "source": [
        "#дни - названия колонок\n",
        "days_of_week = []\n",
        "numbers = []\n",
        "days = rows[0].find_all(\"div\", class_ = \"w_date\")\n",
        "numbers_raw = rows[0].find_all(class_ = [\"w_date__date black\",\"w_date__date weekend\"])\n",
        "days_of_week_raw = rows[0].find_all(\"div\", class_ = \"w_date__day\")\n",
        "for day in days_of_week_raw:\n",
        "  days_of_week.append(day.contents[0])\n",
        "for number in numbers_raw:\n",
        "  numbers.append(number.contents[0].replace(\" \",\"\").replace(\"\\n\",\"\")[0:2])\n",
        "columns = []\n",
        "for i in range(10):\n",
        "  columns.append(numbers[i] +\".02\"+ \" (\" + days_of_week[i].lower() +\")\")\n",
        "print(columns)"
      ],
      "execution_count": 0,
      "outputs": [
        {
          "output_type": "stream",
          "text": [
            "['18.02 (вс)', '19.02 (пн)', '20.02 (вт)', '21.02 (ср)', '22.02 (чт)', '23.02 (пт)', '24.02 (сб)', '25.02 (вс)', '26.02 (пн)', '27.02 (вт)']\n"
          ],
          "name": "stdout"
        }
      ]
    },
    {
      "cell_type": "code",
      "metadata": {
        "id": "8v9ImiQlwI-f",
        "colab_type": "code",
        "outputId": "5a92dc7c-b60a-4ff6-bb90-b6a3a00164c0",
        "colab": {
          "base_uri": "https://localhost:8080/",
          "height": 52
        }
      },
      "source": [
        "#максимальная и минимальная температуры\n",
        "max_temperature_raw = rows[2].find_all(\"div\", class_ = \"maxt\")\n",
        "min_temperature_raw = rows[2].find_all(\"div\", class_ = \"mint\")\n",
        "max_temperature = []\n",
        "min_temperature = []\n",
        "for i in range(10):\n",
        "  max_temperature.append(float(max_temperature_raw[i].contents[0].replace('−','-')))\n",
        "  min_temperature.append(float(min_temperature_raw[i].contents[0].replace('−','-')))\n",
        "print(max_temperature)\n",
        "print(min_temperature)"
      ],
      "execution_count": 0,
      "outputs": [
        {
          "output_type": "stream",
          "text": [
            "[-13.0, -9.0, -12.0, -13.0, -12.0, -14.0, -13.0, -13.0, -10.0, -10.0]\n",
            "[-22.0, -18.0, -19.0, -20.0, -22.0, -22.0, -23.0, -22.0, -20.0, -19.0]\n"
          ],
          "name": "stdout"
        }
      ]
    },
    {
      "cell_type": "code",
      "metadata": {
        "id": "vc33w7Fq-Isp",
        "colab_type": "code",
        "outputId": "14decb3a-fbb2-4301-f6d3-65a84c48e64c",
        "colab": {
          "base_uri": "https://localhost:8080/",
          "height": 34
        }
      },
      "source": [
        "#скорость ветра\n",
        "wind = []\n",
        "wind_raw = rows[3].find_all(\"div\", class_ = \"w_wind__warning\")\n",
        "for wnd in wind_raw:\n",
        "  wind.append(float(wnd.contents[1].strip()))\n",
        "wind"
      ],
      "execution_count": 0,
      "outputs": [
        {
          "output_type": "execute_result",
          "data": {
            "text/plain": [
              "[10.0, 13.0, 12.0, 11.0, 7.0, 6.0, 11.0, 10.0, 6.0, 10.0]"
            ]
          },
          "metadata": {
            "tags": []
          },
          "execution_count": 8
        }
      ]
    },
    {
      "cell_type": "code",
      "metadata": {
        "id": "iyePJSVPAcmr",
        "colab_type": "code",
        "outputId": "fb552caa-2434-440c-9171-8bbef185eedd",
        "colab": {
          "base_uri": "https://localhost:8080/",
          "height": 34
        }
      },
      "source": [
        "#уровень осадков\n",
        "rain = []\n",
        "rain_raw = rows[4].find_all(\"div\", class_ = \"w_precipitation__value\")\n",
        "for rn in rain_raw:\n",
        "  rain.append(float(rn.contents[0].strip().replace(',','.')))\n",
        "rain"
      ],
      "execution_count": 0,
      "outputs": [
        {
          "output_type": "execute_result",
          "data": {
            "text/plain": [
              "[0.0, 0.1, 0.0, 0.0, 0.1, 0.0, 0.0, 0.0, 0.0, 0.0]"
            ]
          },
          "metadata": {
            "tags": []
          },
          "execution_count": 9
        }
      ]
    },
    {
      "cell_type": "markdown",
      "metadata": {
        "id": "BaJ9G6u4BQ8Z",
        "colab_type": "text"
      },
      "source": [
        "Создание датафрейма"
      ]
    },
    {
      "cell_type": "code",
      "metadata": {
        "id": "gfTpkFo8UrTx",
        "colab_type": "code",
        "outputId": "8b531eaf-f223-493b-8f2c-ba233e9e4688",
        "colab": {
          "base_uri": "https://localhost:8080/",
          "height": 188
        }
      },
      "source": [
        "index = ['минимальная температура','максимальная температура', 'скорость ветра', 'уровень осадков']\n",
        "data = [min_temperature,max_temperature,wind,rain]\n",
        "df = pnd.DataFrame(columns = columns,data=data, index = index)\n",
        "df.head()"
      ],
      "execution_count": 0,
      "outputs": [
        {
          "output_type": "execute_result",
          "data": {
            "text/html": [
              "<div>\n",
              "<style scoped>\n",
              "    .dataframe tbody tr th:only-of-type {\n",
              "        vertical-align: middle;\n",
              "    }\n",
              "\n",
              "    .dataframe tbody tr th {\n",
              "        vertical-align: top;\n",
              "    }\n",
              "\n",
              "    .dataframe thead th {\n",
              "        text-align: right;\n",
              "    }\n",
              "</style>\n",
              "<table border=\"1\" class=\"dataframe\">\n",
              "  <thead>\n",
              "    <tr style=\"text-align: right;\">\n",
              "      <th></th>\n",
              "      <th>18.02 (вс)</th>\n",
              "      <th>19.02 (пн)</th>\n",
              "      <th>20.02 (вт)</th>\n",
              "      <th>21.02 (ср)</th>\n",
              "      <th>22.02 (чт)</th>\n",
              "      <th>23.02 (пт)</th>\n",
              "      <th>24.02 (сб)</th>\n",
              "      <th>25.02 (вс)</th>\n",
              "      <th>26.02 (пн)</th>\n",
              "      <th>27.02 (вт)</th>\n",
              "    </tr>\n",
              "  </thead>\n",
              "  <tbody>\n",
              "    <tr>\n",
              "      <th>минимальная температура</th>\n",
              "      <td>-22.0</td>\n",
              "      <td>-18.0</td>\n",
              "      <td>-19.0</td>\n",
              "      <td>-20.0</td>\n",
              "      <td>-22.0</td>\n",
              "      <td>-22.0</td>\n",
              "      <td>-23.0</td>\n",
              "      <td>-22.0</td>\n",
              "      <td>-20.0</td>\n",
              "      <td>-19.0</td>\n",
              "    </tr>\n",
              "    <tr>\n",
              "      <th>максимальная температура</th>\n",
              "      <td>-13.0</td>\n",
              "      <td>-9.0</td>\n",
              "      <td>-12.0</td>\n",
              "      <td>-13.0</td>\n",
              "      <td>-12.0</td>\n",
              "      <td>-14.0</td>\n",
              "      <td>-13.0</td>\n",
              "      <td>-13.0</td>\n",
              "      <td>-10.0</td>\n",
              "      <td>-10.0</td>\n",
              "    </tr>\n",
              "    <tr>\n",
              "      <th>скорость ветра</th>\n",
              "      <td>10.0</td>\n",
              "      <td>13.0</td>\n",
              "      <td>12.0</td>\n",
              "      <td>11.0</td>\n",
              "      <td>7.0</td>\n",
              "      <td>6.0</td>\n",
              "      <td>11.0</td>\n",
              "      <td>10.0</td>\n",
              "      <td>6.0</td>\n",
              "      <td>10.0</td>\n",
              "    </tr>\n",
              "    <tr>\n",
              "      <th>уровень осадков</th>\n",
              "      <td>0.0</td>\n",
              "      <td>0.1</td>\n",
              "      <td>0.0</td>\n",
              "      <td>0.0</td>\n",
              "      <td>0.1</td>\n",
              "      <td>0.0</td>\n",
              "      <td>0.0</td>\n",
              "      <td>0.0</td>\n",
              "      <td>0.0</td>\n",
              "      <td>0.0</td>\n",
              "    </tr>\n",
              "  </tbody>\n",
              "</table>\n",
              "</div>"
            ],
            "text/plain": [
              "                          18.02 (вс)  19.02 (пн)  20.02 (вт)  21.02 (ср)  \\\n",
              "минимальная температура        -22.0       -18.0       -19.0       -20.0   \n",
              "максимальная температура       -13.0        -9.0       -12.0       -13.0   \n",
              "скорость ветра                  10.0        13.0        12.0        11.0   \n",
              "уровень осадков                  0.0         0.1         0.0         0.0   \n",
              "\n",
              "                          22.02 (чт)  23.02 (пт)  24.02 (сб)  25.02 (вс)  \\\n",
              "минимальная температура        -22.0       -22.0       -23.0       -22.0   \n",
              "максимальная температура       -12.0       -14.0       -13.0       -13.0   \n",
              "скорость ветра                   7.0         6.0        11.0        10.0   \n",
              "уровень осадков                  0.1         0.0         0.0         0.0   \n",
              "\n",
              "                          26.02 (пн)  27.02 (вт)  \n",
              "минимальная температура        -20.0       -19.0  \n",
              "максимальная температура       -10.0       -10.0  \n",
              "скорость ветра                   6.0        10.0  \n",
              "уровень осадков                  0.0         0.0  "
            ]
          },
          "metadata": {
            "tags": []
          },
          "execution_count": 10
        }
      ]
    },
    {
      "cell_type": "markdown",
      "metadata": {
        "id": "x5VIMw1hBM64",
        "colab_type": "text"
      },
      "source": [
        ""
      ]
    },
    {
      "cell_type": "markdown",
      "metadata": {
        "id": "ZArfrS6CYGIb",
        "colab_type": "text"
      },
      "source": [
        "### 2. Генератор описания прогноза погоды [4 балла]\n",
        "\n",
        "Если у вас не получилось извлечь прогноз погоды в предыдущей части задания, воспользуйтесь таблицей ниже.\n",
        "В ней приведен прогноз четырех показателей на ближайшие 10 дней в Москве – минимальная и максимальная температура, скорость ветра и уровень осадков. "
      ]
    },
    {
      "cell_type": "markdown",
      "metadata": {
        "id": "LYstLuBwYGIe",
        "colab_type": "text"
      },
      "source": [
        "|                | 02.02 (пт) | 03.02 (сб) | 04.02 (вс)| 05.02 (пн) | 06.02 (вт) | 07.02 (пн) | 08.02 (ср) | 09.02 (ср) | 10.02 (сб) | 11.02 (вс)\n",
        "|----------------|-------|-------|-------|-------|-------|-------|-------|\n",
        "| минимальная температура    | -9    | -1    | -8    | -13    | -12    | -15    | -21    | -14 |-8 |-8\n",
        "| максимальная температура    | -1    | +1    | -2    | -9   | -11    | -12    | -16    |-5    |-6    |-5|\n",
        "| скорость ветра | 10    | 13    | 15    | 15   |11    | 6    | 7 | 9 | 8 |12\n",
        "| уровень осадков         | 1.35  | 8.6  | 15.5  | 6.6   | 2.7   | 2.1   | 0   | 3.2   |0.8  | 0.4"
      ]
    },
    {
      "cell_type": "markdown",
      "metadata": {
        "id": "0pFqOxdgYGIh",
        "colab_type": "text"
      },
      "source": [
        "Прогноз погоды должен состоять из следующих (или подобным им) предложений, генерируемых по шаблонам (ниже три шаблона):\n",
        "* В день1 похолодает / потеплеет на X градус (-а, -ов) по сравнению с день2\n",
        "    * *В четверг в НазваниеГорода потеплеет на 7 градусов по сравнению со средой*\n",
        "* Скорость ветра изменится на X единиц в день1 по сравнению с день2.\n",
        "    * *Скорость ветра изменится на 3 единицы в понедельник по сравнению с пятницей*\n",
        "* Уровень осадков повысится / понизится на X единиц за Y дней. \n",
        "    * *Уровень осадков понится на 3.85 единиц за 7 дней*\n",
        "\n",
        "Вместо НазваниеГорода подставьте название выбранного вами города, используя фунцкии для согласования существительных с предлогами. "
      ]
    },
    {
      "cell_type": "markdown",
      "metadata": {
        "id": "Tu0kJCyUyF2i",
        "colab_type": "text"
      },
      "source": [
        "## Выполнение 2 части задания\n",
        "\n",
        "Во второй части задания мы использовали pymorphy2 - морфологический анализатор, который мы использовали для того, чтобы приводить слова в нужную форму (число, падеж) и правильно согласовывать с числительными. В своем прогнозе мы ипользовали следующие шаблоны:\n",
        "- Для первого дня:\n",
        "  - В день1 в НазваниеГорода будет X градус (-а, -ов). \n",
        "  - Скорость ветра будет достигать X метр (-а, -ов) в секунду. \n",
        "  - Уровень осадков будет равен X миллиметр (-а, -ов).\n",
        "- Для всех остальных дней:\n",
        "  - В день(n) в НазваниеГорода [ потеплеет / похолодает на X градус (-а, -ов) ] / [ температура не изменится ] по сравнению с день(n-1). [Температура будет равна X градус (-а, -ов).] \n",
        "  - Скорость ветра (не) изменится на X единиц (-, -ы). [ Ветер будет дуть со скоростью X метр (-а, -ов) в секунду.] \n",
        "  - Уровень осадков [ повысится / понизится на X единиц (-, -ы) ] / [ не изменится ]. [ Осадков выпадет 0.0 миллиметров. ]\n",
        "- Итоговые заключения:\n",
        "  - За N дней / дня в НазваниеГорода [ потеплеет / похолодает на X градус (-а, -ов) ] / [ температура не изменится ]. \n",
        "  - Уровень осадков [ повысится / понизится на X единиц (-, -ы) ] / [ не изменится ].\n",
        "***  \n",
        "Для получения дневной температуры мы находили среднее между максимальной и минимальной температурой.\n",
        "***\n",
        "Также для написания некоторых функций (например, получения названия дня недели и месяца) мы использовали регулярные выражения. Регулярные выражения - формальный язык поиска и осуществления манипуляций с подстроками в тексте, основанный на использовании метасимволов (определение с wikipedia)."
      ]
    },
    {
      "cell_type": "markdown",
      "metadata": {
        "id": "t0a4qYH270CC",
        "colab_type": "text"
      },
      "source": [
        "***\n",
        "С помощью пакета pymorphy2 были осуществленны следующие функции:\n",
        " - \"парсинг\" слова: функция morph.parse(word)[0];\n",
        " - согласование существительного с числительным: функция make_agree_with_number(\"число\").word из пакета;\n",
        " - приведение существительного к нужному падежу: функция inflect({'падеж'}).word из пакета.\n",
        " \n",
        "С помощью библиотеки re - регулярные выражения мы смогли написать функции, реализующие:\n",
        " - получение полного названия дня недели из его сокращения - использованы поиск по строке (findall) и удаление символов (sub);\n",
        " - получение названия месяца из даты - поиск по строке (findall);\n",
        " - согласование предлога с существительным (по правилам русского языка) - поиск по строке (findall)."
      ]
    },
    {
      "cell_type": "code",
      "metadata": {
        "id": "m8UMMl32ebwB",
        "colab_type": "code",
        "colab": {}
      },
      "source": [
        "!pip install pymorphy2"
      ],
      "execution_count": 0,
      "outputs": []
    },
    {
      "cell_type": "code",
      "metadata": {
        "id": "kYNxEHt3eP1e",
        "colab_type": "code",
        "colab": {}
      },
      "source": [
        "import re\n",
        "import numpy as np\n",
        "import pandas as pd\n",
        "import pymorphy2\n",
        "morph = pymorphy2.MorphAnalyzer()"
      ],
      "execution_count": 0,
      "outputs": []
    },
    {
      "cell_type": "code",
      "metadata": {
        "id": "kpqLj4k5eRJV",
        "colab_type": "code",
        "colab": {}
      },
      "source": [
        "# Работа с днями недели (получение полного названия из сокращения)\n",
        "\n",
        "days = [\"понедельник\",\"вторник\",\"среда\",\"четверг\",\"пятница\", \"суббота\", \"воскресенье\"]\n",
        "\n",
        "def name_of_day(col):\n",
        "  day_column = re.sub(r'[.\\s\\(\\)]', '', col)\n",
        "  short_name = re.findall(r'\\D+', day_column)[0]\n",
        "  for day in days:\n",
        "    short = re.sub(r'[оеяу]', '', re.findall(r'^\\w\\w\\w', day)[0])\n",
        "    if short_name == short:\n",
        "      day_needed = day\n",
        "  return day_needed"
      ],
      "execution_count": 0,
      "outputs": []
    },
    {
      "cell_type": "code",
      "metadata": {
        "id": "7EgAYg3tkUn9",
        "colab_type": "code",
        "colab": {}
      },
      "source": [
        "# Получение названия месяца из даты\n",
        "\n",
        "months = ['январь', 'февраль', 'март', 'апрель', 'май', 'июнь', 'июль', 'август', 'сентябрь', 'октябрь', 'ноябрь', 'декабрь']\n",
        "\n",
        "def date(col):\n",
        "  day = int(re.findall(r'\\w+', col)[0])\n",
        "  month = months[int(re.findall(r'\\w+', col)[1])-1]\n",
        "  month = morph.parse(month)[0]\n",
        "  month = month.inflect({'gent'}).word \n",
        "  return str(day)+' '+month"
      ],
      "execution_count": 0,
      "outputs": []
    },
    {
      "cell_type": "code",
      "metadata": {
        "id": "g1Gyc0SqeRbX",
        "colab_type": "code",
        "colab": {}
      },
      "source": [
        "# Согласование предлога с существительным\n",
        "\n",
        "# если после предлога \"в\" идет слово, которое также начинается с буквы \"в\", а после нее идет согласная - пишется предлог \"во\"\n",
        "def preposition_v(word):\n",
        "  find = re.findall(r'^\\w\\w', word)[0]\n",
        "  if find[0]== 'в' and find[1]== re.findall(r'[^аеёиоуыэяю]', word)[1]:\n",
        "    return 'во'\n",
        "  else:\n",
        "    return 'в'\n",
        "\n",
        "# если после предлога \"с\" идет слова, начинающееся с \"с\" и согласной после, также перед сочетаниями [в] + согласная - пишется предлог \"со\"\n",
        "def preposition_s(word):\n",
        "  find = re.findall(r'^\\w\\w', word)[0]\n",
        "  if (find[0]== 'с' and find[1]== re.findall(r'[^аеёиоуыэяю]', word)[1]) or (find[0]== 'в' and find[1]== re.findall(r'[^аеёиоуыэяю]', word)[1]) :\n",
        "    return 'со'\n",
        "  else:\n",
        "    return 'с'\n",
        "\n",
        "# приведение существительного в нужный падеж\n",
        "def case(word_, c):\n",
        "  word_ = morph.parse(word_)[0]\n",
        "  word_in_case = word_.inflect({c}).word\n",
        "  return word_in_case\n",
        "\n",
        "# согласование существительного с числом\n",
        "def with_number(n, word):\n",
        "    parsed_word = morph.parse(word)[0]\n",
        "    s = ' '.join([str(np.round(n,1)) ,parsed_word.make_agree_with_number(n).word])\n",
        "    return s"
      ],
      "execution_count": 0,
      "outputs": []
    },
    {
      "cell_type": "code",
      "metadata": {
        "id": "8O0nCv7feRil",
        "colab_type": "code",
        "colab": {}
      },
      "source": [
        "# Формулировка прогноза для первого дня\n",
        "\n",
        "city = 'Хабаровск' # город\n",
        "sentences = list() # лист всех предложений\n",
        "\n",
        "day_needed = name_of_day(df.columns[0])\n",
        "day_needed = morph.parse(day_needed)[0]\n",
        "day_needed = day_needed.inflect({'accs'}).word\n",
        "\n",
        "mean_temp = np.mean([df.iloc[:,0][0],df.iloc[:,0][1]])\n",
        "temperature = with_number(mean_temp,'градус')\n",
        "\n",
        "city = case(city,'loct')\n",
        "mpsec = with_number(df.iloc[:,0][2],'метр') + ' в секунду'\n",
        "mms = with_number(df.iloc[:,0][3],'миллиметр')\n",
        "\n",
        "s = ' '.join([preposition_v(day_needed).title(), day_needed, date(df.columns[0]), preposition_v(city), city.title(), 'будет', temperature]) + '. '\n",
        "sentences.append(s)\n",
        "s = ' '.join(['Скорость ветра будет достигать', mpsec]) + '. '\n",
        "sentences.append(s)\n",
        "s = ' '.join(['Уровень осадков будет равен', mms]) + '.'\n",
        "sentences.append(s)"
      ],
      "execution_count": 0,
      "outputs": []
    },
    {
      "cell_type": "code",
      "metadata": {
        "id": "dudzgM1koMKi",
        "colab_type": "code",
        "colab": {}
      },
      "source": [
        "# Формулировка прогноза для всех остальных дней\n",
        "\n",
        "def temp_diff(temp1,temp2):\n",
        "  diff = np.abs(temp1-temp2)\n",
        "  degree = with_number(diff, 'градус')\n",
        "  if temp1 > temp2 : \n",
        "    return 'потеплеет на ' + degree \n",
        "  elif temp1 < temp2 : \n",
        "    return 'похолодает на ' + degree\n",
        "  else : \n",
        "    return 'температура не изменится'\n",
        "  \n",
        "def precip_diff(mms1,mms2):\n",
        "  diff = np.abs(mms1-mms2)\n",
        "  count = with_number(diff, 'единица')\n",
        "  if mms1 > mms2 : \n",
        "    return 'повысится на ' + count\n",
        "  elif mms1 < mms2 : \n",
        "    return 'понизится на ' + count\n",
        "  else : \n",
        "    return 'не изменится'\n",
        "\n",
        "def sow_diff(sow1,sow2):\n",
        "  diff = np.abs(sow1-sow2)\n",
        "  count = with_number(diff,\"единица\")\n",
        "  if diff>0 : \n",
        "    return 'изменится на ' + count\n",
        "  else : \n",
        "    return 'не изменится'\n",
        "  \n",
        "# Метод\n",
        "\n",
        "def forecast(i_col):\n",
        "  day_one = name_of_day(df.columns[i_col])\n",
        "  day_two = name_of_day(df.columns[i_col-1])\n",
        "  date_one = date(df.columns[i_col])\n",
        "\n",
        "  temp1 = np.mean([df.iloc[:,i_col][0],df.iloc[:,i_col][1]])\n",
        "  temp2 = np.mean([df.iloc[:,i_col-1][0],df.iloc[:,i_col-1][1]])\n",
        "  \n",
        "  sow1 = df.iloc[:,i_col][2]\n",
        "  sow2 = df.iloc[:,i_col-1][2]\n",
        "  \n",
        "  mms1 = df.iloc[:,i_col][3]\n",
        "  mms2 = df.iloc[:,i_col-1][3]\n",
        "  \n",
        "  temp_s = list()\n",
        "  \n",
        "  s = ' '.join([preposition_v(day_one).title(), case(day_one,'accs'), date_one, preposition_v(city), city.title(), temp_diff(temp1,temp2), 'по сравнению', preposition_s(day_two), case(day_two, 'ablt')]) + '.'\n",
        "  temp_s.append(s)\n",
        "  \n",
        "  if np.abs(temp1-temp2) != 0: \n",
        "    s = ' '.join(['Температура будет равна', with_number(temp1,'градус')]) + '.'\n",
        "    temp_s.append(s)\n",
        "    \n",
        "  s = ' '.join(['Скорость ветра', sow_diff(sow1,sow2)]) +'.'\n",
        "  temp_s.append(s)\n",
        "  \n",
        "  if np.abs(sow1-sow2) != 0: \n",
        "    s = ' '.join(['Ветер будет дуть со скоростью', with_number(sow1,'метр'), 'в секунду']) + '.'\n",
        "    temp_s.append(s)\n",
        "  \n",
        "  s = ' '.join(['Уровень осадков', precip_diff(mms1,mms2)]) + '.'\n",
        "  temp_s.append(s)\n",
        "  \n",
        "  if np.abs(mms1-mms2) != 0: \n",
        "    s = ' '.join(['Осадков выпадет', with_number(mms1,'миллиметр') ]) + '.'\n",
        "    temp_s.append(s)\n",
        "  \n",
        "  return ' '.join(temp_s)"
      ],
      "execution_count": 0,
      "outputs": []
    },
    {
      "cell_type": "code",
      "metadata": {
        "id": "H5RDMQUO3qw3",
        "colab_type": "code",
        "colab": {}
      },
      "source": [
        "sentences.append('\\n')\n",
        "\n",
        "# Получение прогноза для всех дней\n",
        "for i in range(1,len(df.columns)):\n",
        "  sentences.append(forecast(i))\n",
        "  sentences.append('\\n')\n",
        "  \n",
        "# Последний день итог\n",
        "temp1 = np.mean([df.iloc[:,9][0],df.iloc[:,9][1]])\n",
        "temp2 = np.mean([df.iloc[:,0][0],df.iloc[:,0][1]])\n",
        "mms1 = df.iloc[:,9][3]\n",
        "mms2 = df.iloc[:,0][3]\n",
        "s = ' '.join(['За', with_number(len(df.columns),'день'), preposition_v(city), city.title(), temp_diff(temp1,temp2)]) + '. '\n",
        "sentences.append(s)\n",
        "s = ' '.join(['Уровень осадков', precip_diff(mms1,mms2)]) + '.'\n",
        "sentences.append(s)"
      ],
      "execution_count": 0,
      "outputs": []
    },
    {
      "cell_type": "markdown",
      "metadata": {
        "id": "gEMRrW3BASSy",
        "colab_type": "text"
      },
      "source": [
        "### Полученный результат"
      ]
    },
    {
      "cell_type": "code",
      "metadata": {
        "id": "Dex5977U7zWw",
        "colab_type": "code",
        "outputId": "8c5df62b-0d22-4d6d-cb82-405db22f20dc",
        "colab": {
          "base_uri": "https://localhost:8080/",
          "height": 232
        }
      },
      "source": [
        "# Итоговый прогноз\n",
        "print(''.join(sentences))\n"
      ],
      "execution_count": 0,
      "outputs": [
        {
          "output_type": "stream",
          "text": [
            "В воскресенье 18 февраля в Хабаровске будет -17.5 градуса. Скорость ветра будет достигать 10.0 метров в секунду. Уровень осадков будет равен 0.0 миллиметров.\n",
            "В понедельник 19 февраля в Хабаровске потеплеет на 4.0 градуса по сравнению с воскресеньем. Температура будет равна -13.5 градусов. Скорость ветра изменится на 3.0 единицы. Ветер будет дуть со скоростью 13.0 метров в секунду. Уровень осадков повысится на 0.1 единиц. Осадков выпадет 0.1 миллиметров.\n",
            "Во вторник 20 февраля в Хабаровске похолодает на 2.0 градуса по сравнению с понедельником. Температура будет равна -15.5 градусов. Скорость ветра изменится на 1.0 единица. Ветер будет дуть со скоростью 12.0 метров в секунду. Уровень осадков понизится на 0.1 единиц. Осадков выпадет 0.0 миллиметров.\n",
            "В среду 21 февраля в Хабаровске похолодает на 1.0 градус по сравнению со вторником. Температура будет равна -16.5 градуса. Скорость ветра изменится на 1.0 единица. Ветер будет дуть со скоростью 11.0 метров в секунду. Уровень осадков не изменится.\n",
            "В четверг 22 февраля в Хабаровске похолодает на 0.5 градусов по сравнению со средой. Температура будет равна -17.0 градуса. Скорость ветра изменится на 4.0 единицы. Ветер будет дуть со скоростью 7.0 метров в секунду. Уровень осадков повысится на 0.1 единиц. Осадков выпадет 0.1 миллиметров.\n",
            "В пятницу 23 февраля в Хабаровске похолодает на 1.0 градус по сравнению с четвергом. Температура будет равна -18.0 градуса. Скорость ветра изменится на 1.0 единица. Ветер будет дуть со скоростью 6.0 метров в секунду. Уровень осадков понизится на 0.1 единиц. Осадков выпадет 0.0 миллиметров.\n",
            "В субботу 24 февраля в Хабаровске температура не изменится по сравнению с пятницей. Скорость ветра изменится на 5.0 единиц. Ветер будет дуть со скоростью 11.0 метров в секунду. Уровень осадков не изменится.\n",
            "В воскресенье 25 февраля в Хабаровске потеплеет на 0.5 градусов по сравнению с субботой. Температура будет равна -17.5 градуса. Скорость ветра изменится на 1.0 единица. Ветер будет дуть со скоростью 10.0 метров в секунду. Уровень осадков не изменится.\n",
            "В понедельник 26 февраля в Хабаровске потеплеет на 2.5 градуса по сравнению с воскресеньем. Температура будет равна -15.0 градусов. Скорость ветра изменится на 4.0 единицы. Ветер будет дуть со скоростью 6.0 метров в секунду. Уровень осадков не изменится.\n",
            "Во вторник 27 февраля в Хабаровске потеплеет на 0.5 градусов по сравнению с понедельником. Температура будет равна -14.5 градусов. Скорость ветра изменится на 4.0 единицы. Ветер будет дуть со скоростью 10.0 метров в секунду. Уровень осадков не изменится.\n",
            "За 10 дней в Хабаровске потеплеет на 3.0 градуса. Уровень осадков не изменится.\n"
          ],
          "name": "stdout"
        }
      ]
    },
    {
      "cell_type": "markdown",
      "metadata": {
        "id": "6NTIRCanYGJZ",
        "colab_type": "text"
      },
      "source": [
        "### 3. Ответьте на вопросы [3 балла]\n",
        "* В каких других задачах (помимо описания прогноза погоды) может понадобиться генерировать текст по шаблонам? В каких задачах может понадобиться генерировать текст об изменении числовых показателей по шаблонам?\n",
        "* Шаблоны, которые вы использовали в этом задании, имеют фиксированную структуру. Фактически, ваша задача заключалась в том, чтобы подставить в шаблон число и согласовать единицы измерения с этим числом или подставить в шаблон название города и согласовать его с предлогом. Как можно разнообразить эти шаблоны? Как знание синтаксической структуры предложения может помочь в этой задаче? "
      ]
    },
    {
      "cell_type": "markdown",
      "metadata": {
        "id": "RePE2HqK9oar",
        "colab_type": "text"
      },
      "source": [
        "## Ответы на вопросы\n",
        "### Вопрос №1\n",
        "Генерировать текст по шаблонам может быть полезным в:\n",
        "- типовых юридических документах, например различные иски и т.д., формируемые по типовым, стандартным шаблонам.\n",
        "- почтовой рассылке с актуальными предложениями, в которой может быть персонализация - нужно только менять имена и прочую информацию.\n",
        "- рекламных статьях, где на одну тематику сгенерировано множество различных формулировок.\n",
        "- чат-ботах, которые могут из уже заложенных фраз и шаблонов формируют новые.\n",
        "\n",
        "Генерировать текст об изменении числовых показателей по шаблонам может использоваться в:\n",
        "- различных финансовых отчетах об изменениях ключевых показателей за год (например, размер чистой прибыли, коммерческого расхода)\n",
        "- приложениях, отслеживающих какую-либо статистику (беговые приложения и т.п.)\n",
        "***\n",
        "### Вопрос №2\n",
        "Первое, что можно сделать - это не высчитывать среднюю температуру между максимальной и минимальной, а использовать оба значения, таким образом сделав наш прогноз еще и более точным.\n",
        "\n",
        "Разнообразить шаблоны можно с помощью использования синонимов, заменой часто употребляемых слов на них. Также можно объединять несколько шаблонов в одно предложение. Знание синтаксической структуры предоставит нам возможность менять словосочетания местами без потери смысла, тем самым создавать новые, уникальные предложения. Также, мы всегда можем создать новые шаблоны, используя другую синтаксическую структуру, но сохраняя смысл. Все предложенные способы можно использовать для генерации случайной последовательности шаблонов, которые будут образовывать взаимосвязанный текст, состоящий из разнообразных структур."
      ]
    },
    {
      "cell_type": "markdown",
      "metadata": {
        "id": "kYWf7H15K7di",
        "colab_type": "text"
      },
      "source": [
        "### Вывод\n",
        "В ходе проделанной работы мы улучшили свои навыки владения библиотеками beautifulsoup4 и pymorphy2.\n",
        "Мы реализовали алгоритм построения семантически верных предложений на основе скачанных данных. Данный алгоритм может быть применен для любого города, доступного на сайте gismeteo.ru - достаточно лишь ввести нужную ссылку."
      ]
    },
    {
      "cell_type": "markdown",
      "metadata": {
        "id": "g4QgDwGaYGJa",
        "colab_type": "text"
      },
      "source": [
        "## Сдача домашнего задания\n",
        "\n",
        "Дедлайн сдачи домашнего задания:  23:59 17.02.2018.\n",
        "\n",
        "Результаты домашнего задания должны быть оформлены в виде отчета в jupyter notebook.\n",
        "Нормальный отчёт должен включать в себя:\n",
        "* Краткую постановку задачи и формулировку задания\n",
        "* Описание минимума необходимой теории и/или описание используемых инструментов \n",
        "* Подробный пошаговый рассказ о проделанной работе\n",
        "* **Аккуратно** оформленные результаты\n",
        "* Подробные и внятные ответы на все заданные вопросы \n",
        "* Внятные выводы – не стоит относится к домашнему заданию как к последовательности сугубо технических шагов, а стоит относится скорее как к небольшому практическому исследованию, у которого есть своя цель и свое назначение.\n",
        "\n",
        "Задание выполняется в группе до трех человек. Не забудьте перечислить фамилии всех, кто работал над домашнем задании, в jupyter notebook.  \n",
        "\n",
        "В случае использования какого-либо строннего источника информации обязательно дайте на него ссылку (поскольку другие тоже могут на него наткнуться). Плагиат наказывается нулём баллов за задание и предвзятым отношением в будущем.\n",
        "\n",
        "\n",
        "При возникновении проблем с выполнением задания обращайтесь с вопросами к преподавателю по семинарским занятиям в вашей группе или у учебным ассистентам.\n",
        "\n",
        "Учебный ассистент по ДЗ 1: Анна Лапидус (anyalapidus@list.ru).\n",
        "\n",
        "\n",
        "Небрежное оформление отчета существенно отразится на итоговой оценке. Весь код из отчёта должен быть воспроизводимым, если для этого нужны какие-то дополнительные действия, установленные модули и т.п. — всё это должно быть прописано в отчете в явном виде.\n",
        "\n",
        "Сдача отчетов осуществляется через систему AnyTask."
      ]
    },
    {
      "cell_type": "markdown",
      "metadata": {
        "id": "uyqU0_AyYGJb",
        "colab_type": "text"
      },
      "source": [
        "### Как сдать домашнее задание в AnyTask\n",
        "* Зарегистрируйтесь в системе AnyTask по ссылке http://anytask.org/accounts/register . Регистрация обязательна для всех!\n",
        "* Подтвердите регистрацию по e-mail.\n",
        "* Зайдите в свой профиль, нажмите “Активация инвайтов на курсы” и введите инвайт:\n",
        "\n",
        "ИАД-1 : VNYQlGd\n",
        "\n",
        "ИАД-2 : wDEa8ge\n",
        "\n",
        "ИАД-3 : SviK5dd\n",
        "\n",
        "ИАД-4 : dzdD8YG\n",
        "\n",
        "\n",
        " У вас появится курс “ВШЭ > Прикладные задачи анализа данных” в разделе “Посещает курсы”.\n",
        "* Перейдите по ссылке “ВШЭ > Прикладные задачи анализа данных (2018)” и нажмите кнопку “Сдать”. \n",
        "* У вас откроется условие задачи и будут доступны различные поля, в частности, НИЖЕ условия задачи будет поле ввода, в которое вы сможете вписать какой-то комментарий, и сможете прикрепить файл. Сделайте это.\n",
        "* Домашнее задание лучше всего сдавать в форматах IPYNB.\n",
        "* Оценку вы получите также в системе AnyTask. За своей успеваемостью можете следить в разделе “Ведомость”, а также можете прокомментировать что-то в каждом вашем домашнем задании, зайдя на ее страничку (ячейки в табличке на страничке “Ведомость” кликабельны и ведут на ваш submission домашки).\n",
        "\n",
        "(**ВАЖНО**) Если домашнее задание вы делали в группе, то в AnyTask домашнее сдает *один* участник группы, но заргестрироваться в AnyTask обязательно всем – так мы сможем проставить вам оценки в ведомость в AnyTask.\n",
        "\n",
        "Ссылка на курс в AnyTask: http://anytask.org/course/281"
      ]
    }
  ]
}