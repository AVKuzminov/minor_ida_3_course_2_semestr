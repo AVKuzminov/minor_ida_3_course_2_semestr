{
 "cells": [
  {
   "cell_type": "markdown",
   "metadata": {},
   "source": [
    "# Задания к семинару по NLTK \n",
    "\n",
    "При выполнения заданий используйте презентацию М-sem2.pdf. Не забудьте импортировать необходимые модули."
   ]
  },
  {
   "cell_type": "code",
   "execution_count": 1,
   "metadata": {
    "collapsed": false
   },
   "outputs": [
    {
     "name": "stdout",
     "output_type": "stream",
     "text": [
      "showing info https://raw.githubusercontent.com/nltk/nltk_data/gh-pages/index.xml\n"
     ]
    },
    {
     "data": {
      "text/plain": [
       "True"
      ]
     },
     "execution_count": 1,
     "metadata": {},
     "output_type": "execute_result"
    }
   ],
   "source": [
    "import nltk\n",
    "nltk.download()"
   ]
  },
  {
   "cell_type": "markdown",
   "metadata": {},
   "source": [
    "### Задание 1:\n",
    "Откройте и запишите в одну текстовую строку файл alice.txt.\n",
    "\n",
    "Ответьте на вопросы: \n",
    "1. Сколько всего символов в файле?\n",
    "2. Какой текст написан в последней строке файла? (Подсказка: в какой переменной содержится эта строка?)"
   ]
  },
  {
   "cell_type": "code",
   "execution_count": 5,
   "metadata": {
    "collapsed": false
   },
   "outputs": [
    {
     "name": "stdout",
     "output_type": "stream",
     "text": [
      "И, наконец, она представила себе, как ее маленькая сестра вырастет и, сохранив в свои зрелые годы простое и любящее детское сердце, станет собирать вокруг себя других детей, и как их глаза заблестят от дивных сказок. Быть может, она поведает им и о Стране Чудес и, разделив с ними их нехитрые горести и нехитрые радости, вспомнит свое детство и счастливые летние дни.\n"
     ]
    }
   ],
   "source": [
    "s = ''\n",
    "symbols = 0\n",
    "with open('alice.txt', encoding = 'UTF8') as infile:\n",
    "    for line in infile:\n",
    "        s += line.strip() + ' '\n",
    "        symbols += len(line)\n",
    "    s = s.replace('-','')\n",
    "print(line)"
   ]
  },
  {
   "cell_type": "code",
   "execution_count": 6,
   "metadata": {
    "collapsed": false
   },
   "outputs": [
    {
     "data": {
      "text/plain": [
       "129384"
      ]
     },
     "execution_count": 6,
     "metadata": {},
     "output_type": "execute_result"
    }
   ],
   "source": [
    "symbols"
   ]
  },
  {
   "cell_type": "markdown",
   "metadata": {},
   "source": [
    "### Задание 2:\n",
    "Создайте и скомпилируйте регулярное выражения для разбиения полученной строки на токены. Не забудьте про дефис и букву ё. \n",
    "\n",
    "Найдите все токены с помощью этого регулярного выражения, ответьте на вопросы:\n",
    "1. Сколько токенов получилось?\n",
    "2. Какой токен первый? \n",
    "3. Какой токен последний?"
   ]
  },
  {
   "cell_type": "code",
   "execution_count": 17,
   "metadata": {
    "collapsed": false
   },
   "outputs": [
    {
     "name": "stdout",
     "output_type": "stream",
     "text": [
      "19933\n",
      "июльский\n",
      "дни\n",
      "[('и', 751), ('не', 542), ('в', 390), ('алиса', 377), ('она', 366), ('что', 341), ('на', 282), ('я', 273), ('а', 233), ('с', 217)]\n"
     ]
    }
   ],
   "source": [
    "import re\n",
    "regex = re.compile('[А-ЯЁа-яё\\-]+')\n",
    "l1 = regex.findall(s.lower())\n",
    "d1 = nltk.FreqDist(l1)\n",
    "print(len(l1))\n",
    "print(l1[0])\n",
    "print(l1[-1])"
   ]
  },
  {
   "cell_type": "markdown",
   "metadata": {},
   "source": [
    "### Задание 3\n",
    "Используя nltk.FreqDist, выведите 20 самых часто встречающихся слов в тексте.\n",
    "\n",
    "Ответьте на вопросы:\n",
    "1. Какое слово стоит на 1 месте? \n",
    "2. Сколько раз встречается слово, стоящее на 20 месте?\n",
    "3. Сколько не стоп-слов среди первых десяти?\n",
    "4. Сколько раз встречается слово \"крокет\"? (понятно, что оно не входит в top20)"
   ]
  },
  {
   "cell_type": "code",
   "execution_count": 26,
   "metadata": {
    "collapsed": false
   },
   "outputs": [
    {
     "name": "stdout",
     "output_type": "stream",
     "text": [
      "и\n",
      "100\n",
      "[('и', 751), ('не', 542), ('в', 390), ('алиса', 377), ('она', 366), ('что', 341), ('на', 282), ('я', 273), ('а', 233), ('с', 217)]\n",
      "7\n"
     ]
    }
   ],
   "source": [
    "#print(d1.most_common(10))\n",
    "print(d1.max())\n",
    "print(d1.most_common(20)[-1][1])\n",
    "print(d1.most_common(10))\n",
    "print(d1['крокет'])"
   ]
  },
  {
   "cell_type": "markdown",
   "metadata": {},
   "source": [
    "### Задание 4\n",
    "Избавьтесь от стоп-слов с помощью списка stopwords из nltk.corpus. \n",
    "Используйте pymorphy2, чтобы привести слова к нормальной форме.\n",
    "Ответьте на вопросы:\n",
    "1. Какое слово стоит на 1 месте? \n",
    "2. Сколько раз встречается слово, стоящее на 20 месте?\n",
    "3. Остались ли какие-то стоп-слова среди первых 10? 20?\n",
    "4. Сколько раз встречается слово \"крокет\"? Почему результат изменился?"
   ]
  },
  {
   "cell_type": "code",
   "execution_count": 27,
   "metadata": {
    "collapsed": false
   },
   "outputs": [
    {
     "name": "stdout",
     "output_type": "stream",
     "text": [
      "<FreqDist with 3056 samples and 11771 outcomes> [('алиса', 417), ('сказать', 257), ('это', 183), ('спросить', 78), ('королева', 75), ('подумать', 73), ('свой', 65), ('король', 65), ('очень', 64), ('один', 63)]\n"
     ]
    }
   ],
   "source": [
    "import pymorphy2\n",
    "morph = pymorphy2.MorphAnalyzer()\n",
    "from nltk.corpus import stopwords\n",
    "l3 = [morph.parse(token)[0].normal_form for token in l1 if not token in stopwords.words('russian')]\n",
    "d3 = nltk.FreqDist(l3)\n",
    "print(d3, d3.most_common(10))"
   ]
  },
  {
   "cell_type": "markdown",
   "metadata": {},
   "source": [
    "### Задание 5\n",
    "Постройте кумулятивный график частот слов. Как он выглядит и почему так? Попробуйте поменять количество слов, какие тенденции вы видите?"
   ]
  },
  {
   "cell_type": "code",
   "execution_count": 5,
   "metadata": {
    "collapsed": true
   },
   "outputs": [],
   "source": [
    "# "
   ]
  },
  {
   "cell_type": "markdown",
   "metadata": {
    "collapsed": true
   },
   "source": [
    "### Задание 6\n",
    "Разбейте последнюю строку исходного файла на предложения (у вас наверняка сохранилась переменная, в которой лежит эта строка).\n",
    "1. Сколько предложений получилось? "
   ]
  },
  {
   "cell_type": "code",
   "execution_count": 6,
   "metadata": {
    "collapsed": true
   },
   "outputs": [],
   "source": [
    "# "
   ]
  },
  {
   "cell_type": "markdown",
   "metadata": {},
   "source": [
    "### Задание 7\n",
    "Найдите распределение длин слов в тексте, выведите top5 и ответьте на вопросы:\n",
    "1. Сколько всего в данном тексте вариантов длин слов (вместе со стоп-словами)?\n",
    "2. Слов какой длины в тексте больше всего?\n",
    "3. Какую долю занимают слова этой длины?\n",
    "4. Сколько слов длины 1?\n",
    "\n",
    "Выведите в алфавитном поредке длинные слова (длиннее 15 символов). \n",
    "5. Сколько их? "
   ]
  },
  {
   "cell_type": "code",
   "execution_count": 7,
   "metadata": {
    "collapsed": true,
    "scrolled": true
   },
   "outputs": [],
   "source": [
    "# "
   ]
  },
  {
   "cell_type": "markdown",
   "metadata": {},
   "source": [
    "### Задание 8\n",
    "Превратите строку в NLTK-текст и проверьте, как работают спецфункции, на собственных примерах."
   ]
  },
  {
   "cell_type": "code",
   "execution_count": 9,
   "metadata": {
    "collapsed": true
   },
   "outputs": [],
   "source": [
    "# окружение для \"крокет\"\n",
    "# похожие на 'король' слова\n",
    "# общий контекст для [\"королева\", \"алиса\"]\n",
    "# 10 частотных словосочетаний"
   ]
  },
  {
   "cell_type": "code",
   "execution_count": null,
   "metadata": {
    "collapsed": true
   },
   "outputs": [],
   "source": []
  }
 ],
 "metadata": {
  "anaconda-cloud": {},
  "kernelspec": {
   "display_name": "Python 3",
   "language": "python",
   "name": "python3"
  },
  "language_info": {
   "codemirror_mode": {
    "name": "ipython",
    "version": 3
   },
   "file_extension": ".py",
   "mimetype": "text/x-python",
   "name": "python",
   "nbconvert_exporter": "python",
   "pygments_lexer": "ipython3",
   "version": "3.6.0"
  }
 },
 "nbformat": 4,
 "nbformat_minor": 2
}
